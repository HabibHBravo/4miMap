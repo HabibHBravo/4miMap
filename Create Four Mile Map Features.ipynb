{
 "cells": [
  {
   "cell_type": "markdown",
   "id": "7985461d",
   "metadata": {},
   "source": [
    "# <u>Four Mile Map Features and Calculations</u>\n",
    "## by Habib Bravo-Ruiz for Final Project of Geography 489 at Penn State University\n",
    "\n",
    "### 1. Overview\n",
    "This notebook can be used to generate and illustrate data for sensitive environments within four miles of a Puerto Rico site. The generated data can be used for Hazardous Ranking System (HRS) evaluations. The HRS is a system that the Environmental Protection Agency (EPA) uses to score and evaluate potential threats to public health and the environment posed by uncontrolled releases or threatened releases of hazardous substances, pollutants, or contaminants. It is the primary screening tool for determining whether a site is to be included on the Nation Priority List (NPL), EPA’s list of sites that are priorities for further investigation and, if necessary, response action under the Comprehensive Environmental Response, Compensation, and Liability Act (CERCLA).\n",
    "\n",
    "An HRS score for a site is determined by evaluating four pathways: Ground water migration; Surface water migration; Soil exposure and Subsurface Intrusion; and Air migration. The scoring system for each pathway is based on several individual factors grouped into three-factor categories: (1) likelihood of release (or, for the Soil Exposure and Subsurface Intrusion pathway, the likelihood of exposure); (2) waste characteristics; and (3) targets. The four mile maps specifically deal with targets. Targets consist of human populations, sensitive environments, fisheries, and resources that can potentially be affected by a releases from a contaminated site.\n",
    "\n",
    "The code has been implemented and tested with Python 3.9.11.\n",
    "\n",
    "Python packages used:\n",
    "\n",
    "* From the Python standard library:\n",
    "    * os (https://docs.python.org/3/library/os.html)\n",
    "    * sys (https://docs.python.org/3/library/sys.html)\n",
    "    * re (https://docs.python.org/3/library/re.html)\n",
    "    * csv (https://docs.python.org/3/library/csv.html)\n",
    "    * zipfile (https://docs.python.org/3/library/zipfile.html)\n",
    "* arcgis - ArcGIS API for Python (https://developers.arcgis.com/python/)\n",
    "* arcpy (https://www.esri.com/en-us/arcgis/products/arcgis-python-libraries/libraries/arcpy)\n",
    "* pandas (https://pypi.python.org/pypi/pandas)- \n",
    "* urllib3 (https://urllib3.readthedocs.io/en/stable/)\n",
    "\n",
    "### 2. Preparation\n",
    "To run this notebook, the above Python packages must be installed and the input data must be saved in a new folder (referred to as the workspace folder in the following). Furthermore, four input variables in Section 2.2.1 of this notebook need to be adapted.\n",
    "\n",
    "#### 2.1 Data for this project\n",
    "The following files are required to run this notebook:\n",
    "* FourMileData.gdb - This file contains the feature classes of the sensitive environments for the whole island of Puerto Rico.\n",
    "\n",
    "#### 2.2 Importing packages and preparing notebook\n",
    "The following subsections contain some first Python code to initialize the project, starting with some important input variables that need to adapted for your purposes.\n",
    "\n",
    "##### 2.2.1 Setup Input Variables to be Adapted by the User\n",
    "The workspace variable should point to the folder in which the input data is stored. **Please adapt the path accordingly.**"
   ]
  },
  {
   "cell_type": "code",
   "execution_count": 1,
   "id": "82077f54",
   "metadata": {},
   "outputs": [],
   "source": [
    "# Path to geodatabase containing the input features\n",
    "workspace = r\"C:\\PSU\\Geog489\\Final Project\\Deliverables\\Aprx\\FourMileData.gdb\"\n",
    "\n",
    "# Path to the geodatabase where the output features will be stored\n",
    "# If the geodatabase does not exist, the script will create one for you\n",
    "outputGDB = r\"C:\\PSU\\Geog489\\Final Project\\Deliverables\\Aprx\\FinalTest.gdb\"\n",
    "\n",
    "# Folder where you want the output CSV to be stored\n",
    "outputCSV = r\"C:\\PSU\\Geog489\\Final Project\\Deliverables\\Aprx\"\n",
    "\n",
    "# Your ArcGIS Online username\n",
    "usernameAGOL = \"hhb5067_pennstate\""
   ]
  },
  {
   "cell_type": "markdown",
   "id": "da8933b5",
   "metadata": {},
   "source": [
    "##### 2.2.2 Setup Input Variables to be Adapted by the User\n",
    "The below defines the intial variables used by the script. The names within the lists are the names of the sensitive environment feature classes in the workspace geodatabase."
   ]
  },
  {
   "cell_type": "code",
   "execution_count": 2,
   "id": "b191d94c",
   "metadata": {},
   "outputs": [],
   "source": [
    "mainTargetEnvsFCs = [\"EN_and_NT_Species\", \"Natural_Areas\", \"Critical_Wildlife\", \"Coastal_Barriers\"]\n",
    "otherTargetEnvsFCs = [\"Wetlands\", \"Census_2010\"]"
   ]
  },
  {
   "cell_type": "markdown",
   "id": "4f347d23",
   "metadata": {},
   "source": [
    "##### 2.2.3 Import General Python Packages Needed and Set Arcpy Settings\n",
    "Python packages that we will be used in different places throught the notebook are imported and some arcpy settings are defined."
   ]
  },
  {
   "cell_type": "code",
   "execution_count": 3,
   "id": "d28e5877",
   "metadata": {},
   "outputs": [],
   "source": [
    "import arcgis, arcpy, os, pandas\n",
    "import fourmilefunctions_jupyter as functs\n",
    "\n",
    "arcpy.env.overwriteOutput = True\n",
    "arcpy.env.workspace = workspace"
   ]
  },
  {
   "cell_type": "markdown",
   "id": "8edac016",
   "metadata": {},
   "source": [
    "##### 2.2.4 Check Geodatabase Status\n",
    "Below a check is peformed to see if the geodatabase defined by the user in Section 2.2.1 exists. If the geodatabase exists, it provides the user options regarding what to with the geodatabase. If it does not exists, it creates the geodatabase."
   ]
  },
  {
   "cell_type": "code",
   "execution_count": 4,
   "id": "4211896f",
   "metadata": {},
   "outputs": [
    {
     "name": "stdout",
     "output_type": "stream",
     "text": [
      "Geodatabase already exists. Do you want to overwrite it? y\n"
     ]
    }
   ],
   "source": [
    "gdbTest = functs.checkOutputGDB(outputGDB)"
   ]
  },
  {
   "cell_type": "markdown",
   "id": "4340eeb0",
   "metadata": {},
   "source": [
    "##### 2.2.5 Create a Point Feature Class for the Input Site\n",
    "Below a point feature class is created based on user input. The script will show a text box where the user has to type the site name. After typing the site name press enter and another text box will show for the longitude. After typing the longitude press enter and the last box will appear for the latitude. Both longitude and latitude have to be entered in decimal degrees. The coordinates must be within the boundaries of mainland Puerto Rico. Can you the following for example. Lat: 18.456, Long: -66.855"
   ]
  },
  {
   "cell_type": "code",
   "execution_count": 5,
   "id": "864a2aa5",
   "metadata": {},
   "outputs": [
    {
     "name": "stdout",
     "output_type": "stream",
     "text": [
      "Please enter the name of the site: TestSite\n",
      "Please enter site longitude in decimal degrees: -66.85\n",
      "Please enter site latitude in decimal degrees: 18.45\n"
     ]
    }
   ],
   "source": [
    "sitesFC = functs.createInputData(gdbTest)\n",
    "siteList = functs.getSites(sitesFC)"
   ]
  },
  {
   "cell_type": "markdown",
   "id": "e43797b3",
   "metadata": {},
   "source": [
    "### 3. Processing Sensitive Environment Data\n",
    "In the next sections, the sensitive environment feature classes in the workspace are processed based on the location of the input site. \n",
    "\n",
    "#### 3.1 Geoprocessing of Sensitive Environments\n",
    "The next function creates 0.25-, 0.5-, 1-, 2-, 3-, 4-mi buffer rings around the input site."
   ]
  },
  {
   "cell_type": "code",
   "execution_count": 6,
   "id": "cb0fd4c2",
   "metadata": {
    "scrolled": true
   },
   "outputs": [],
   "source": [
    "siteRingsFCsList = functs.createBufferRings(sitesFC, siteList)"
   ]
  },
  {
   "cell_type": "markdown",
   "id": "b33ac7b4",
   "metadata": {},
   "source": [
    "The first function below clips all the sensitve environment feature classes except the wetlands and population. This function also returns a list the of clipped feature classes that were generated. The idenBaseMapFiles functions performs clip and identity on wetlands and population feature classes. Identitiy is required for calculations. This function also returns a list of identity feature classes."
   ]
  },
  {
   "cell_type": "code",
   "execution_count": 7,
   "id": "33564175",
   "metadata": {},
   "outputs": [],
   "source": [
    "mainTargetEnvsFCsClip = [functs.clipBasemapFiles(fcs, siteList, siteRingsFCsList) for fcs in mainTargetEnvsFCs]\n",
    "otherTargetEnvsFCsIden = [functs.idenBasemapFiles(fcs, siteList, siteRingsFCsList) for fcs in otherTargetEnvsFCs]"
   ]
  },
  {
   "cell_type": "markdown",
   "id": "1b51a11c",
   "metadata": {},
   "source": [
    "#### 3.2 Population and Wetland Calculations\n",
    "The below function performs wetland area and population calculations per buffer ring using their identity feature classes created above and returns a csv file.Then a pandas dataframe is created using the csv file to present the data to the user."
   ]
  },
  {
   "cell_type": "code",
   "execution_count": 8,
   "id": "95ef0792",
   "metadata": {},
   "outputs": [],
   "source": [
    "calcData = functs.targetCalculations(siteList, otherTargetEnvsFCsIden, outputCSV)"
   ]
  },
  {
   "cell_type": "code",
   "execution_count": 9,
   "id": "9d5da406",
   "metadata": {},
   "outputs": [
    {
     "data": {
      "text/html": [
       "<div>\n",
       "<style scoped>\n",
       "    .dataframe tbody tr th:only-of-type {\n",
       "        vertical-align: middle;\n",
       "    }\n",
       "\n",
       "    .dataframe tbody tr th {\n",
       "        vertical-align: top;\n",
       "    }\n",
       "\n",
       "    .dataframe thead th {\n",
       "        text-align: right;\n",
       "    }\n",
       "</style>\n",
       "<table border=\"1\" class=\"dataframe\">\n",
       "  <thead>\n",
       "    <tr style=\"text-align: right;\">\n",
       "      <th></th>\n",
       "      <th>Site Name</th>\n",
       "      <th>Distance Ring (mi)</th>\n",
       "      <th>Wetland Area (acres)</th>\n",
       "      <th>Population</th>\n",
       "    </tr>\n",
       "  </thead>\n",
       "  <tbody>\n",
       "    <tr>\n",
       "      <th>0</th>\n",
       "      <td>TestSite</td>\n",
       "      <td>0.25</td>\n",
       "      <td>0.0</td>\n",
       "      <td>130.0</td>\n",
       "    </tr>\n",
       "    <tr>\n",
       "      <th>1</th>\n",
       "      <td>TestSite</td>\n",
       "      <td>0.50</td>\n",
       "      <td>0.0</td>\n",
       "      <td>587.0</td>\n",
       "    </tr>\n",
       "    <tr>\n",
       "      <th>2</th>\n",
       "      <td>TestSite</td>\n",
       "      <td>1.00</td>\n",
       "      <td>5.5</td>\n",
       "      <td>2431.0</td>\n",
       "    </tr>\n",
       "    <tr>\n",
       "      <th>3</th>\n",
       "      <td>TestSite</td>\n",
       "      <td>2.00</td>\n",
       "      <td>208.1</td>\n",
       "      <td>9995.0</td>\n",
       "    </tr>\n",
       "    <tr>\n",
       "      <th>4</th>\n",
       "      <td>TestSite</td>\n",
       "      <td>3.00</td>\n",
       "      <td>413.3</td>\n",
       "      <td>19211.0</td>\n",
       "    </tr>\n",
       "    <tr>\n",
       "      <th>5</th>\n",
       "      <td>TestSite</td>\n",
       "      <td>4.00</td>\n",
       "      <td>287.6</td>\n",
       "      <td>16707.0</td>\n",
       "    </tr>\n",
       "  </tbody>\n",
       "</table>\n",
       "</div>"
      ],
      "text/plain": [
       "  Site Name  Distance Ring (mi)  Wetland Area (acres)  Population\n",
       "0  TestSite                0.25                   0.0       130.0\n",
       "1  TestSite                0.50                   0.0       587.0\n",
       "2  TestSite                1.00                   5.5      2431.0\n",
       "3  TestSite                2.00                 208.1      9995.0\n",
       "4  TestSite                3.00                 413.3     19211.0\n",
       "5  TestSite                4.00                 287.6     16707.0"
      ]
     },
     "execution_count": 9,
     "metadata": {},
     "output_type": "execute_result"
    }
   ],
   "source": [
    "targetCalculationsDF = pandas.read_csv(calcData)\n",
    "targetCalculationsDF"
   ]
  },
  {
   "cell_type": "markdown",
   "id": "01b393cf",
   "metadata": {},
   "source": [
    "### 4. Visualization of the Processing Results with ArcGIS Online\n",
    "This details how an interactive map representation of the final data is added to the notebook with ESRI ArcGIS API for Python.\n",
    "\n",
    "#### 4.1 Create Zipped Output Geodatabase\n",
    "The copyFCs function copies all the resulting feature classes that need to be displayed. Then a zipfile version of the output geodatabase is created to be uploaded to ArcGIS Online."
   ]
  },
  {
   "cell_type": "code",
   "execution_count": 10,
   "id": "ccd95d58",
   "metadata": {},
   "outputs": [],
   "source": [
    "functs.copyFCs(siteList, gdbTest)\n",
    "functs.createZipfile(gdbTest)"
   ]
  },
  {
   "cell_type": "markdown",
   "id": "7346ba20",
   "metadata": {},
   "source": [
    "#### 4.2 Upload and Publish to ArcGIS Online\n",
    "In this section the ArcGIS API for Python is used to establish a connection to a PSU AGOL account and publish the zipped geodatabase as a feature service that will be use in a map visualization. First, a GIS object connected to the AGOL account is created."
   ]
  },
  {
   "cell_type": "code",
   "execution_count": 11,
   "id": "8ea024ef",
   "metadata": {},
   "outputs": [
    {
     "name": "stdout",
     "output_type": "stream",
     "text": [
      "Please sign in to your GIS and paste the code that is obtained below.\n",
      "If a web browser does not automatically open, please navigate to the URL below yourself instead.\n",
      "Opening web browser to navigate to: https://pennstate.maps.arcgis.com/sharing/rest/oauth2/authorize?response_type=code&client_id=lDSJ3yfux2gkFBYc&redirect_uri=urn%3Aietf%3Awg%3Aoauth%3A2.0%3Aoob&state=6myU3N47M2Qv5aQJ5BgyLeOlbl9Wg9&allow_verification=false\n",
      "Enter code obtained on signing in using SAML: ········\n"
     ]
    }
   ],
   "source": [
    "import urllib3 # urllib3 is imported to prevent getting InsecureRequestWarning after signing in\n",
    "urllib3.disable_warnings(urllib3.exceptions.InsecureRequestWarning)\n",
    "\n",
    "from arcgis.gis import GIS\n",
    "gis = GIS(\"https://pennstate.maps.arcgis.com\", client_id=\"lDSJ3yfux2gkFBYc\")"
   ]
  },
  {
   "cell_type": "markdown",
   "id": "1d67f2a8",
   "metadata": {},
   "source": [
    "The following code checks that there is no output geodatabase feature service with the already on AGOL from previous runs of the notebook."
   ]
  },
  {
   "cell_type": "code",
   "execution_count": 13,
   "id": "d8518545",
   "metadata": {},
   "outputs": [
    {
     "name": "stdout",
     "output_type": "stream",
     "text": [
      "Found items for title=FinalTest, owner=hhb5067_pennstate, itemType=File geodatabase:\n",
      "[]\n",
      "Found items for title=FinalTest, owner=hhb5067_pennstate, itemType=Feature Service:\n",
      "[]\n"
     ]
    }
   ],
   "source": [
    "# Get AGOL username\n",
    "user = gis.users.get(usernameAGOL)\n",
    "\n",
    "# Search for content in your gis with a query built from title, owner and item type\n",
    "def searchAGOL(title, owner, itemType):\n",
    "    return gis.content.search(query=\"title:\"+title+\" owner:\"+owner, item_type=itemType)\n",
    "\n",
    "# Test whether items exist on AGOL for given title, owner, and item type and if so, delete them from AGOL\n",
    "def deleteIfExistsOnAGOL(title, owner, itemType):\n",
    "    # Search item\n",
    "    result = searchAGOL(title, owner, itemType)\n",
    "    print(\"Found items for title=\"+title+\", owner=\"+owner+\", itemType=\"+itemType+\":\")\n",
    "    print(result)\n",
    "    # Delete items found\n",
    "    for item in result:\n",
    "        item.delete()\n",
    "        print(\"Item \" + item.title + \" has been deleted.\")\n",
    "\n",
    "# Delete existing output shapefiles and feature layers on AGOL\n",
    "deleteIfExistsOnAGOL(os.path.basename(os.path.splitext(outputGDB)[0]), user.username, \"File geodatabase\")\n",
    "deleteIfExistsOnAGOL(os.path.basename(os.path.splitext(outputGDB)[0]), user.username, \"Feature Service\")"
   ]
  },
  {
   "cell_type": "markdown",
   "id": "cf88f8fc",
   "metadata": {},
   "source": [
    "Next the zipped geodatabase is uploaded to AGOL using the gis.content.add() method."
   ]
  },
  {
   "cell_type": "code",
   "execution_count": 14,
   "id": "46124b9e",
   "metadata": {},
   "outputs": [],
   "source": [
    "finalOutputGDB = gis.content.add({\"type\":\"File Geodatabase\"}, os.path.splitext(gdbTest)[0] + \".zip\")"
   ]
  },
  {
   "cell_type": "markdown",
   "id": "1d698010",
   "metadata": {},
   "source": [
    "Then the uploaded geodatabase is published as a feature service by calling the publish() method."
   ]
  },
  {
   "cell_type": "code",
   "execution_count": 15,
   "id": "cad06e7b",
   "metadata": {},
   "outputs": [],
   "source": [
    "finalOutputGDBFeatServ = finalOutputGDB.publish()"
   ]
  },
  {
   "cell_type": "markdown",
   "id": "21755f76",
   "metadata": {},
   "source": [
    "Next the AGOL content is checked to confirm that the geodatabase and its related feature service were uploaded."
   ]
  },
  {
   "cell_type": "code",
   "execution_count": 16,
   "id": "9becd662",
   "metadata": {},
   "outputs": [
    {
     "name": "stdout",
     "output_type": "stream",
     "text": [
      "[<Item title:\"FinalTest\" type:File Geodatabase owner:hhb5067_pennstate>]\n",
      "[<Item title:\"FinalTest\" type:Feature Layer Collection owner:hhb5067_pennstate>]\n"
     ]
    }
   ],
   "source": [
    "print(searchAGOL(os.path.basename(os.path.splitext(gdbTest)[0]), usernameAGOL, \"File Geodatabase\"))\n",
    "print(searchAGOL(os.path.basename(os.path.splitext(gdbTest)[0]), usernameAGOL, \"Feature Service\")) "
   ]
  },
  {
   "cell_type": "markdown",
   "id": "7976a6bd",
   "metadata": {},
   "source": [
    "#### 4.3 Final Interactive Map Visualization\n",
    "In this section a map widget is created to show the sensitive environments within four miles the input site."
   ]
  },
  {
   "cell_type": "code",
   "execution_count": 17,
   "id": "4471513d",
   "metadata": {},
   "outputs": [
    {
     "data": {
      "text/html": [
       "<div class=\"item_container\" style=\"height: auto; overflow: hidden; border: 1px solid #cfcfcf; border-radius: 2px; background: #f6fafa; line-height: 1.21429em; padding: 10px;\">\n",
       "                    <div class=\"item_left\" style=\"width: 210px; float: left;\">\n",
       "                       <a href='https://pennstate.maps.arcgis.com/home/item.html?id=28655d13a8f340049f8344a1bb866fbc' target='_blank'>\n",
       "                        <img src='http://static.arcgis.com/images/desktopapp.png' class=\"itemThumbnail\">\n",
       "                       </a>\n",
       "                    </div>\n",
       "\n",
       "                    <div class=\"item_right\"     style=\"float: none; width: auto; overflow: hidden;\">\n",
       "                        <a href='https://pennstate.maps.arcgis.com/home/item.html?id=28655d13a8f340049f8344a1bb866fbc' target='_blank'><b>FinalTest</b>\n",
       "                        </a>\n",
       "                        <br/><img src='https://pennstate.maps.arcgis.com/home/js/jsapi/esri/css/images/item_type_icons/featureshosted16.png' style=\"vertical-align:middle;\">Feature Layer Collection by hhb5067_pennstate\n",
       "                        <br/>Last Modified: March 16, 2023\n",
       "                        <br/>0 comments, 0 views\n",
       "                    </div>\n",
       "                </div>\n",
       "                "
      ],
      "text/plain": [
       "<Item title:\"FinalTest\" type:Feature Layer Collection owner:hhb5067_pennstate>"
      ]
     },
     "execution_count": 17,
     "metadata": {},
     "output_type": "execute_result"
    }
   ],
   "source": [
    "# Create feature service object\n",
    "uploadedItem = searchAGOL(os.path.basename(os.path.splitext(gdbTest)[0]), usernameAGOL, \"Feature Service\")\n",
    "uploadedItemFL = uploadedItem[0]\n",
    "\n",
    "# Create layer objects for each feature in the feature service\n",
    "pointLyr = uploadedItemFL.layers[0]\n",
    "ringLyr = uploadedItemFL.layers[1]\n",
    "endangeredSpeciesLyr = uploadedItemFL.layers[2]\n",
    "naturalAreasLyr = uploadedItemFL.layers[3]\n",
    "criticalWildlifeLyr = uploadedItemFL.layers[4]\n",
    "coastalLyr = uploadedItemFL.layers[5]\n",
    "wetlandsLyr = uploadedItemFL.layers[6]\n",
    "\n",
    "# Get for each feature in the feature service from the layer objects\n",
    "pointUrl = pointLyr.url\n",
    "ringUrl = ringLyr.url\n",
    "endangeredSpeciesUrl = endangeredSpeciesLyr.url\n",
    "naturalAreasUrl = naturalAreasLyr.url\n",
    "criticalWildlifeUrl = criticalWildlifeLyr.url\n",
    "coastalUrl = coastalLyr.url\n",
    "wetlandsUrl = wetlandsLyr.url\n",
    "\n",
    "# Display feature service info\n",
    "uploadedItemFL"
   ]
  },
  {
   "cell_type": "markdown",
   "id": "dafa5d5c",
   "metadata": {},
   "source": [
    "The below code creates a map widged focused on Puerto Rico."
   ]
  },
  {
   "cell_type": "code",
   "execution_count": 18,
   "id": "83e59695",
   "metadata": {
    "scrolled": true
   },
   "outputs": [
    {
     "data": {
      "application/vnd.jupyter.widget-view+json": {
       "model_id": "657a0c0e970d440f968986ad95f47ab0",
       "version_major": 2,
       "version_minor": 0
      },
      "text/plain": [
       "MapView(layout=Layout(height='400px', width='100%'))"
      ]
     },
     "metadata": {},
     "output_type": "display_data"
    },
    {
     "data": {
      "text/html": [
       "<div class=\"map-static-img-preview-83fb9bd3-5041-436c-87a3-895baf4294d4\"><img src=\"\"></img></div>"
      ],
      "text/plain": [
       "<IPython.core.display.HTML object>"
      ]
     },
     "metadata": {},
     "output_type": "display_data"
    },
    {
     "data": {
      "text/html": [
       "<div class=\"map-html-embed-preview-83fb9bd3-5041-436c-87a3-895baf4294d4\"></div>"
      ],
      "text/plain": [
       "<IPython.core.display.HTML object>"
      ]
     },
     "metadata": {},
     "output_type": "display_data"
    }
   ],
   "source": [
    "# Create map widget object with zoom\n",
    "finalMap = gis.map(\"Puerto Rico\", 9)\n",
    "\n",
    "# Center the extent in the map widget object to NE USA\n",
    "finalMap.center = [18.2,-66.5]\n",
    "\n",
    "# Add the map widget to notebook\n",
    "finalMap"
   ]
  },
  {
   "cell_type": "markdown",
   "id": "00bf3255",
   "metadata": {},
   "source": [
    "Next the basemap is made gray to make the features that will be added easier to see.   "
   ]
  },
  {
   "cell_type": "code",
   "execution_count": 19,
   "id": "dfdabe4e",
   "metadata": {},
   "outputs": [],
   "source": [
    "# Change basemap style\n",
    "finalMap.basemap = \"gray-vector\""
   ]
  },
  {
   "cell_type": "markdown",
   "id": "f29692c7",
   "metadata": {},
   "source": [
    "Last, the features are added to the map widget using the add_layer() function and their url."
   ]
  },
  {
   "cell_type": "code",
   "execution_count": 20,
   "id": "0664febd",
   "metadata": {
    "scrolled": true
   },
   "outputs": [],
   "source": [
    "#Add site layers to final map\n",
    "finalMap.add_layer({\"type\":\"FeatureLayer\",\n",
    "                    \"url\": endangeredSpeciesUrl,\n",
    "                    \"opacity\": 0.5})\n",
    "\n",
    "finalMap.add_layer({\"type\":\"FeatureLayer\", \n",
    "                    \"url\": naturalAreasUrl,\n",
    "                    \"opacity\": 0.5})\n",
    "\n",
    "finalMap.add_layer({\"type\":\"FeatureLayer\", \n",
    "                    \"url\": criticalWildlifeUrl,\n",
    "                    \"opacity\": 0.5})\n",
    "\n",
    "finalMap.add_layer({\"type\":\"FeatureLayer\", \n",
    "                    \"url\": wetlandsUrl})\n",
    "\n",
    "finalMap.add_layer({\"type\":\"FeatureLayer\", \n",
    "                    \"url\": coastalUrl,\n",
    "                    \"opacity\": 0.5})\n",
    "\n",
    "finalMap.add_layer({\"type\":\"FeatureLayer\", \n",
    "                    \"url\": ringUrl,\n",
    "                    \"opacity\": 0.5})\n",
    "\n",
    "finalMap.add_layer({\"type\":\"FeatureLayer\", \n",
    "                    \"url\": pointUrl,\n",
    "                    \"opacity\": 0.5})"
   ]
  },
  {
   "cell_type": "code",
   "execution_count": null,
   "id": "1e1e0ea3",
   "metadata": {},
   "outputs": [],
   "source": []
  }
 ],
 "metadata": {
  "kernelspec": {
   "display_name": "Python 3",
   "language": "python",
   "name": "python3"
  },
  "language_info": {
   "codemirror_mode": {
    "name": "ipython",
    "version": 3
   },
   "file_extension": ".py",
   "mimetype": "text/x-python",
   "name": "python",
   "nbconvert_exporter": "python",
   "pygments_lexer": "ipython3",
   "version": "3.9.11"
  }
 },
 "nbformat": 4,
 "nbformat_minor": 5
}
